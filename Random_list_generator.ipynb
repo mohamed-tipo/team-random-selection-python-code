{
  "nbformat": 4,
  "nbformat_minor": 0,
  "metadata": {
    "colab": {
      "provenance": []
    },
    "kernelspec": {
      "name": "python3",
      "display_name": "Python 3"
    },
    "language_info": {
      "name": "python"
    }
  },
  "cells": [
    {
      "cell_type": "code",
      "execution_count": null,
      "metadata": {
        "id": "Ku92Yt1Rwx9G"
      },
      "outputs": [],
      "source": []
    },
    {
      "cell_type": "markdown",
      "source": [
        "A python code to generate 4 different mixed lists with unique element from eatch primary list - one element from original list in each result list-"
      ],
      "metadata": {
        "id": "9aCecl94xJto"
      }
    },
    {
      "cell_type": "markdown",
      "source": [],
      "metadata": {
        "id": "LVBZkIHsxHn6"
      }
    },
    {
      "cell_type": "code",
      "source": [
        "import random\n",
        "\n",
        "# Sample input lists (replace these with your actual lists)\n",
        "list1 = [1, 2, 3, 4]\n",
        "list2 = ['a', 'b', 'c','d']\n",
        "list3 = [99, 88, 77,66]\n",
        "list4 = [\"1$\",\"2&\",\"3%\",\"4©\"]\n",
        "\n",
        "# Shuffle the lists to ensure randomness\n",
        "for lst in (list1, list2, list3, list4):\n",
        "    random.shuffle(lst)\n",
        "\n",
        "# Create 4 random combined lists\n",
        "combined_lists = [[list1[i], list2[i], list3[i], list4[i]] for i in range(len(list1))]\n",
        "\n",
        "# Print the random combined lists\n",
        "for idx, combined_list in enumerate(combined_lists, 1):\n",
        "    print(f\"Random Combined List {idx}:\", combined_list)\n"
      ],
      "metadata": {
        "colab": {
          "base_uri": "https://localhost:8080/"
        },
        "id": "UpSE4BXLw0_B",
        "outputId": "c4c0ccfb-1ec2-4760-fdb4-44305a261d05"
      },
      "execution_count": 5,
      "outputs": [
        {
          "output_type": "stream",
          "name": "stdout",
          "text": [
            "Random Combined List 1: [1, 'b', 99, '3%']\n",
            "Random Combined List 2: [4, 'a', 77, '4©']\n",
            "Random Combined List 3: [2, 'c', 88, '2&']\n",
            "Random Combined List 4: [3, 'd', 66, '1$']\n"
          ]
        }
      ]
    },
    {
      "cell_type": "markdown",
      "source": [],
      "metadata": {
        "id": "XVpLKV7VwzLq"
      }
    }
  ]
}